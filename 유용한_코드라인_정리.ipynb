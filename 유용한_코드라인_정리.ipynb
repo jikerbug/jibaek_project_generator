{
  "nbformat": 4,
  "nbformat_minor": 0,
  "metadata": {
    "colab": {
      "name": "유용한 코드라인 정리.ipynb",
      "provenance": [],
      "collapsed_sections": [],
      "authorship_tag": "ABX9TyOyhnRojqop/18gcK0T8y1l",
      "include_colab_link": true
    },
    "kernelspec": {
      "name": "python3",
      "display_name": "Python 3"
    }
  },
  "cells": [
    {
      "cell_type": "markdown",
      "metadata": {
        "id": "view-in-github",
        "colab_type": "text"
      },
      "source": [
        "<a href=\"https://colab.research.google.com/github/jikerbug/jibaek_project_generator/blob/master/%EC%9C%A0%EC%9A%A9%ED%95%9C_%EC%BD%94%EB%93%9C%EB%9D%BC%EC%9D%B8_%EC%A0%95%EB%A6%AC.ipynb\" target=\"_parent\"><img src=\"https://colab.research.google.com/assets/colab-badge.svg\" alt=\"Open In Colab\"/></a>"
      ]
    },
    {
      "cell_type": "code",
      "metadata": {
        "id": "8hJ5eOkAHLqJ",
        "colab_type": "code",
        "colab": {
          "base_uri": "https://localhost:8080/",
          "height": 34
        },
        "outputId": "82a85321-6083-48df-bb5e-3978c11cdd8a"
      },
      "source": [
        "name_list = [[\"john\", 1], [\"david\", 100], [\"charlotte\", 4]]\n",
        "\n",
        "sorted_name_list = sorted(name_list, key=lambda name: name[1])  \n",
        "# name이 parameter라고 보면 된다. 즉, name_list의 원소들을 정리할때, 쓸 key로 그 원소의[1] 원소를 지정하겠다는 뜻이다\n",
        "print(sorted_name_list)\n",
        "    "
      ],
      "execution_count": 1,
      "outputs": [
        {
          "output_type": "stream",
          "text": [
            "[['john', 1], ['charlotte', 4], ['david', 100]]\n"
          ],
          "name": "stdout"
        }
      ]
    }
  ]
}