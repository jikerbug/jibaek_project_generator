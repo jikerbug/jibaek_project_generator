{
  "nbformat": 4,
  "nbformat_minor": 0,
  "metadata": {
    "colab": {
      "name": "텐서플로우 설치 가이드.ipynb",
      "provenance": [],
      "collapsed_sections": [],
      "authorship_tag": "ABX9TyPBxlGQ1x1c4s7UrNiV+Bzl",
      "include_colab_link": true
    },
    "kernelspec": {
      "name": "python3",
      "display_name": "Python 3"
    }
  },
  "cells": [
    {
      "cell_type": "markdown",
      "metadata": {
        "id": "view-in-github",
        "colab_type": "text"
      },
      "source": [
        "<a href=\"https://colab.research.google.com/github/jikerbug/jibaek_project_generator/blob/master/%ED%85%90%EC%84%9C%ED%94%8C%EB%A1%9C%EC%9A%B0_%EC%84%A4%EC%B9%98_%EA%B0%80%EC%9D%B4%EB%93%9C.ipynb\" target=\"_parent\"><img src=\"https://colab.research.google.com/assets/colab-badge.svg\" alt=\"Open In Colab\"/></a>"
      ]
    },
    {
      "cell_type": "code",
      "metadata": {
        "id": "hCFyuVFPmarD",
        "colab_type": "code",
        "colab": {}
      },
      "source": [
        ""
      ],
      "execution_count": null,
      "outputs": []
    },
    {
      "cell_type": "markdown",
      "metadata": {
        "id": "rHdpSOD_mdx8",
        "colab_type": "text"
      },
      "source": [
        "##파이참\n",
        "1. visual studio 32, 64 bit distribution 어쩌구 받기\n",
        "2. 아나콘다에서 가상환경 만들기\n",
        "3. 가상환경 activate 후에 텐서플로우 설치\n",
        "4. 파이참에서 아나콘다의 폴더에서 불러와서 interpreter설정\n",
        "\n",
        "*** 가상환경은 다른 가상환경에 전혀 영향을 미치지 않고 완전히 분리된 설정을 가능하게 해준다.\n",
        "\n",
        "##vscode\n",
        "1. 아나콘다에서 가상환경 만들기\n",
        "2. 가상환경에서 텐서플로우 설치\n",
        "3. vscode에 파이썬 플러그인 설치\n",
        "4. ctrl + shift + p -> 아나콘다 파이썬 선택\n"
      ]
    }
  ]
}